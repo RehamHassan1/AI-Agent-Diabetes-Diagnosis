{
 "cells": [
  {
   "cell_type": "code",
   "execution_count": null,
   "id": "initial_id",
   "metadata": {
    "collapsed": true
   },
   "outputs": [],
   "source": [
    "import sys\n",
    "sys.path.append(\"../../src\")\n",
    "from preprocessing import preprocess_all_patients, preprocess_patient_csv\n"
   ]
  },
  {
   "metadata": {},
   "cell_type": "code",
   "outputs": [],
   "execution_count": null,
   "source": [
    "data_folder = \"../../Datasets/HUPA-UCM Diabetes Dataset/Preprocessed\"\n",
    "output_folder = \"../../Datasets/HUPA-UCM Diabetes Dataset/Cleaned\"\n",
    "\n",
    "preprocess_all_patients(data_folder, output_folder)\n"
   ],
   "id": "d355c2090d954dd6"
  }
 ],
 "metadata": {
  "kernelspec": {
   "display_name": "Python 3",
   "language": "python",
   "name": "python3"
  },
  "language_info": {
   "codemirror_mode": {
    "name": "ipython",
    "version": 2
   },
   "file_extension": ".py",
   "mimetype": "text/x-python",
   "name": "python",
   "nbconvert_exporter": "python",
   "pygments_lexer": "ipython2",
   "version": "2.7.6"
  }
 },
 "nbformat": 4,
 "nbformat_minor": 5
}
