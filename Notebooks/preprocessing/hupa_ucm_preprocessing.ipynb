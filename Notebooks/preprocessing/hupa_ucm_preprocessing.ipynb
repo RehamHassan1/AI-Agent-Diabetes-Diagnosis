{
 "cells": [
  {
   "metadata": {
    "ExecuteTime": {
     "end_time": "2025-09-03T00:27:52.784067Z",
     "start_time": "2025-09-03T00:27:52.778722Z"
    }
   },
   "cell_type": "code",
   "source": [
    "import os\n",
    "import json"
   ],
   "id": "a26da1ac81f7767e",
   "outputs": [],
   "execution_count": 52
  },
  {
   "metadata": {
    "ExecuteTime": {
     "end_time": "2025-09-03T00:27:52.821281Z",
     "start_time": "2025-09-03T00:27:52.794428Z"
    }
   },
   "cell_type": "code",
   "source": [
    "from src.utils.hupa_ucm.hupa_ucm_preprocessing import preprocess_all_patients\n",
    "\n",
    "\n"
   ],
   "id": "bc74a309fce34405",
   "outputs": [],
   "execution_count": 53
  },
  {
   "metadata": {
    "ExecuteTime": {
     "end_time": "2025-09-03T00:27:52.846049Z",
     "start_time": "2025-09-03T00:27:52.842507Z"
    }
   },
   "cell_type": "code",
   "source": "print(os.listdir())",
   "id": "15158d43f3567f83",
   "outputs": [
    {
     "name": "stdout",
     "output_type": "stream",
     "text": [
      "['__pycache__', 'eda', 'daily_patient_texts.json', 'hupa_ucm_preprocessing.ipynb', '.ipynb_checkpoints']\n"
     ]
    }
   ],
   "execution_count": 54
  },
  {
   "metadata": {
    "ExecuteTime": {
     "end_time": "2025-09-03T00:27:52.894556Z",
     "start_time": "2025-09-03T00:27:52.890778Z"
    }
   },
   "cell_type": "code",
   "source": "print(\"Current working directory:\", os.getcwd())\n",
   "id": "ef6348419e5ad1ef",
   "outputs": [
    {
     "name": "stdout",
     "output_type": "stream",
     "text": [
      "Current working directory: /home/rana-helal/PycharmProjects/AI-Agent-Diabetes-Diagnosis/Notebooks\n"
     ]
    }
   ],
   "execution_count": 55
  },
  {
   "metadata": {
    "ExecuteTime": {
     "end_time": "2025-09-03T00:40:23.485499Z",
     "start_time": "2025-09-03T00:40:15.562302Z"
    }
   },
   "cell_type": "code",
   "source": [
    "data_folder = \"../Datasets/HUPA-UCM Diabetes Dataset/Preprocessed\"\n",
    "output_folder = \"../Datasets/HUPA-UCM Diabetes Dataset/Final\"\n",
    "\n",
    "successful_files, failed_files = preprocess_all_patients(data_folder, output_folder)"
   ],
   "id": "359aedf4888aa4a6",
   "outputs": [
    {
     "name": "stdout",
     "output_type": "stream",
     "text": [
      "Found 25 CSV files\n",
      "==================================================\n",
      "\n",
      "[1/25] Processing: HUPA0002P.csv\n",
      "Processing: HUPA0002P.csv\n",
      "Saved CSV: ../Datasets/HUPA-UCM Diabetes Dataset/Final/preprocessed/HUPA0002P/HUPA0002P_preprocessed.csv\n",
      "Saved text: ../Datasets/HUPA-UCM Diabetes Dataset/Final/preprocessed/HUPA0002P/text/HUPA0002P_daily.txt\n",
      "Saved JSON: ../Datasets/HUPA-UCM Diabetes Dataset/Final/preprocessed/HUPA0002P/json/HUPA0002P_daily.json\n",
      "\n",
      "[2/25] Processing: HUPA0027P.csv\n",
      "Processing: HUPA0027P.csv\n",
      "Saved CSV: ../Datasets/HUPA-UCM Diabetes Dataset/Final/preprocessed/HUPA0027P/HUPA0027P_preprocessed.csv\n",
      "Saved text: ../Datasets/HUPA-UCM Diabetes Dataset/Final/preprocessed/HUPA0027P/text/HUPA0027P_daily.txt\n",
      "Saved JSON: ../Datasets/HUPA-UCM Diabetes Dataset/Final/preprocessed/HUPA0027P/json/HUPA0027P_daily.json\n",
      "\n",
      "[3/25] Processing: HUPA0020P.csv\n",
      "Processing: HUPA0020P.csv\n",
      "Saved CSV: ../Datasets/HUPA-UCM Diabetes Dataset/Final/preprocessed/HUPA0020P/HUPA0020P_preprocessed.csv\n",
      "Saved text: ../Datasets/HUPA-UCM Diabetes Dataset/Final/preprocessed/HUPA0020P/text/HUPA0020P_daily.txt\n",
      "Saved JSON: ../Datasets/HUPA-UCM Diabetes Dataset/Final/preprocessed/HUPA0020P/json/HUPA0020P_daily.json\n",
      "\n",
      "[4/25] Processing: HUPA0011P.csv\n",
      "Processing: HUPA0011P.csv\n",
      "Saved CSV: ../Datasets/HUPA-UCM Diabetes Dataset/Final/preprocessed/HUPA0011P/HUPA0011P_preprocessed.csv\n",
      "Saved text: ../Datasets/HUPA-UCM Diabetes Dataset/Final/preprocessed/HUPA0011P/text/HUPA0011P_daily.txt\n",
      "Saved JSON: ../Datasets/HUPA-UCM Diabetes Dataset/Final/preprocessed/HUPA0011P/json/HUPA0011P_daily.json\n",
      "\n",
      "[5/25] Processing: HUPA0007P.csv\n",
      "Processing: HUPA0007P.csv\n",
      "Saved CSV: ../Datasets/HUPA-UCM Diabetes Dataset/Final/preprocessed/HUPA0007P/HUPA0007P_preprocessed.csv\n",
      "Saved text: ../Datasets/HUPA-UCM Diabetes Dataset/Final/preprocessed/HUPA0007P/text/HUPA0007P_daily.txt\n",
      "Saved JSON: ../Datasets/HUPA-UCM Diabetes Dataset/Final/preprocessed/HUPA0007P/json/HUPA0007P_daily.json\n",
      "\n",
      "[6/25] Processing: HUPA0018P.csv\n",
      "Processing: HUPA0018P.csv\n",
      "Saved CSV: ../Datasets/HUPA-UCM Diabetes Dataset/Final/preprocessed/HUPA0018P/HUPA0018P_preprocessed.csv\n",
      "Saved text: ../Datasets/HUPA-UCM Diabetes Dataset/Final/preprocessed/HUPA0018P/text/HUPA0018P_daily.txt\n",
      "Saved JSON: ../Datasets/HUPA-UCM Diabetes Dataset/Final/preprocessed/HUPA0018P/json/HUPA0018P_daily.json\n",
      "\n",
      "[7/25] Processing: HUPA0028P.csv\n",
      "Processing: HUPA0028P.csv\n",
      "Saved CSV: ../Datasets/HUPA-UCM Diabetes Dataset/Final/preprocessed/HUPA0028P/HUPA0028P_preprocessed.csv\n",
      "Saved text: ../Datasets/HUPA-UCM Diabetes Dataset/Final/preprocessed/HUPA0028P/text/HUPA0028P_daily.txt\n",
      "Saved JSON: ../Datasets/HUPA-UCM Diabetes Dataset/Final/preprocessed/HUPA0028P/json/HUPA0028P_daily.json\n",
      "\n",
      "[8/25] Processing: HUPA0003P.csv\n",
      "Processing: HUPA0003P.csv\n",
      "Saved CSV: ../Datasets/HUPA-UCM Diabetes Dataset/Final/preprocessed/HUPA0003P/HUPA0003P_preprocessed.csv\n",
      "Saved text: ../Datasets/HUPA-UCM Diabetes Dataset/Final/preprocessed/HUPA0003P/text/HUPA0003P_daily.txt\n",
      "Saved JSON: ../Datasets/HUPA-UCM Diabetes Dataset/Final/preprocessed/HUPA0003P/json/HUPA0003P_daily.json\n",
      "\n",
      "[9/25] Processing: HUPA0022P.csv\n",
      "Processing: HUPA0022P.csv\n",
      "Saved CSV: ../Datasets/HUPA-UCM Diabetes Dataset/Final/preprocessed/HUPA0022P/HUPA0022P_preprocessed.csv\n",
      "Saved text: ../Datasets/HUPA-UCM Diabetes Dataset/Final/preprocessed/HUPA0022P/text/HUPA0022P_daily.txt\n",
      "Saved JSON: ../Datasets/HUPA-UCM Diabetes Dataset/Final/preprocessed/HUPA0022P/json/HUPA0022P_daily.json\n",
      "\n",
      "[10/25] Processing: HUPA0026P.csv\n",
      "Processing: HUPA0026P.csv\n",
      "Saved CSV: ../Datasets/HUPA-UCM Diabetes Dataset/Final/preprocessed/HUPA0026P/HUPA0026P_preprocessed.csv\n",
      "Saved text: ../Datasets/HUPA-UCM Diabetes Dataset/Final/preprocessed/HUPA0026P/text/HUPA0026P_daily.txt\n",
      "Saved JSON: ../Datasets/HUPA-UCM Diabetes Dataset/Final/preprocessed/HUPA0026P/json/HUPA0026P_daily.json\n",
      "\n",
      "[11/25] Processing: HUPA0025P.csv\n",
      "Processing: HUPA0025P.csv\n",
      "Saved CSV: ../Datasets/HUPA-UCM Diabetes Dataset/Final/preprocessed/HUPA0025P/HUPA0025P_preprocessed.csv\n",
      "Saved text: ../Datasets/HUPA-UCM Diabetes Dataset/Final/preprocessed/HUPA0025P/text/HUPA0025P_daily.txt\n",
      "Saved JSON: ../Datasets/HUPA-UCM Diabetes Dataset/Final/preprocessed/HUPA0025P/json/HUPA0025P_daily.json\n",
      "\n",
      "[12/25] Processing: HUPA0023P.csv\n",
      "Processing: HUPA0023P.csv\n",
      "Saved CSV: ../Datasets/HUPA-UCM Diabetes Dataset/Final/preprocessed/HUPA0023P/HUPA0023P_preprocessed.csv\n",
      "Saved text: ../Datasets/HUPA-UCM Diabetes Dataset/Final/preprocessed/HUPA0023P/text/HUPA0023P_daily.txt\n",
      "Saved JSON: ../Datasets/HUPA-UCM Diabetes Dataset/Final/preprocessed/HUPA0023P/json/HUPA0023P_daily.json\n",
      "\n",
      "[13/25] Processing: HUPA0005P.csv\n",
      "Processing: HUPA0005P.csv\n",
      "Saved CSV: ../Datasets/HUPA-UCM Diabetes Dataset/Final/preprocessed/HUPA0005P/HUPA0005P_preprocessed.csv\n",
      "Saved text: ../Datasets/HUPA-UCM Diabetes Dataset/Final/preprocessed/HUPA0005P/text/HUPA0005P_daily.txt\n",
      "Saved JSON: ../Datasets/HUPA-UCM Diabetes Dataset/Final/preprocessed/HUPA0005P/json/HUPA0005P_daily.json\n",
      "\n",
      "[14/25] Processing: HUPA0014P.csv\n",
      "Processing: HUPA0014P.csv\n",
      "Saved CSV: ../Datasets/HUPA-UCM Diabetes Dataset/Final/preprocessed/HUPA0014P/HUPA0014P_preprocessed.csv\n",
      "Saved text: ../Datasets/HUPA-UCM Diabetes Dataset/Final/preprocessed/HUPA0014P/text/HUPA0014P_daily.txt\n",
      "Saved JSON: ../Datasets/HUPA-UCM Diabetes Dataset/Final/preprocessed/HUPA0014P/json/HUPA0014P_daily.json\n",
      "\n",
      "[15/25] Processing: HUPA0001P.csv\n",
      "Processing: HUPA0001P.csv\n",
      "Saved CSV: ../Datasets/HUPA-UCM Diabetes Dataset/Final/preprocessed/HUPA0001P/HUPA0001P_preprocessed.csv\n",
      "Saved text: ../Datasets/HUPA-UCM Diabetes Dataset/Final/preprocessed/HUPA0001P/text/HUPA0001P_daily.txt\n",
      "Saved JSON: ../Datasets/HUPA-UCM Diabetes Dataset/Final/preprocessed/HUPA0001P/json/HUPA0001P_daily.json\n",
      "\n",
      "[16/25] Processing: HUPA0006P.csv\n",
      "Processing: HUPA0006P.csv\n",
      "Saved CSV: ../Datasets/HUPA-UCM Diabetes Dataset/Final/preprocessed/HUPA0006P/HUPA0006P_preprocessed.csv\n",
      "Saved text: ../Datasets/HUPA-UCM Diabetes Dataset/Final/preprocessed/HUPA0006P/text/HUPA0006P_daily.txt\n",
      "Saved JSON: ../Datasets/HUPA-UCM Diabetes Dataset/Final/preprocessed/HUPA0006P/json/HUPA0006P_daily.json\n",
      "\n",
      "[17/25] Processing: HUPA0010P.csv\n",
      "Processing: HUPA0010P.csv\n",
      "Saved CSV: ../Datasets/HUPA-UCM Diabetes Dataset/Final/preprocessed/HUPA0010P/HUPA0010P_preprocessed.csv\n",
      "Saved text: ../Datasets/HUPA-UCM Diabetes Dataset/Final/preprocessed/HUPA0010P/text/HUPA0010P_daily.txt\n",
      "Saved JSON: ../Datasets/HUPA-UCM Diabetes Dataset/Final/preprocessed/HUPA0010P/json/HUPA0010P_daily.json\n",
      "\n",
      "[18/25] Processing: HUPA0016P.csv\n",
      "Processing: HUPA0016P.csv\n",
      "Saved CSV: ../Datasets/HUPA-UCM Diabetes Dataset/Final/preprocessed/HUPA0016P/HUPA0016P_preprocessed.csv\n",
      "Saved text: ../Datasets/HUPA-UCM Diabetes Dataset/Final/preprocessed/HUPA0016P/text/HUPA0016P_daily.txt\n",
      "Saved JSON: ../Datasets/HUPA-UCM Diabetes Dataset/Final/preprocessed/HUPA0016P/json/HUPA0016P_daily.json\n",
      "\n",
      "[19/25] Processing: HUPA0021P.csv\n",
      "Processing: HUPA0021P.csv\n",
      "Saved CSV: ../Datasets/HUPA-UCM Diabetes Dataset/Final/preprocessed/HUPA0021P/HUPA0021P_preprocessed.csv\n",
      "Saved text: ../Datasets/HUPA-UCM Diabetes Dataset/Final/preprocessed/HUPA0021P/text/HUPA0021P_daily.txt\n",
      "Saved JSON: ../Datasets/HUPA-UCM Diabetes Dataset/Final/preprocessed/HUPA0021P/json/HUPA0021P_daily.json\n",
      "\n",
      "[20/25] Processing: HUPA0017P.csv\n",
      "Processing: HUPA0017P.csv\n",
      "Saved CSV: ../Datasets/HUPA-UCM Diabetes Dataset/Final/preprocessed/HUPA0017P/HUPA0017P_preprocessed.csv\n",
      "Saved text: ../Datasets/HUPA-UCM Diabetes Dataset/Final/preprocessed/HUPA0017P/text/HUPA0017P_daily.txt\n",
      "Saved JSON: ../Datasets/HUPA-UCM Diabetes Dataset/Final/preprocessed/HUPA0017P/json/HUPA0017P_daily.json\n",
      "\n",
      "[21/25] Processing: HUPA0024P.csv\n",
      "Processing: HUPA0024P.csv\n",
      "Saved CSV: ../Datasets/HUPA-UCM Diabetes Dataset/Final/preprocessed/HUPA0024P/HUPA0024P_preprocessed.csv\n",
      "Saved text: ../Datasets/HUPA-UCM Diabetes Dataset/Final/preprocessed/HUPA0024P/text/HUPA0024P_daily.txt\n",
      "Saved JSON: ../Datasets/HUPA-UCM Diabetes Dataset/Final/preprocessed/HUPA0024P/json/HUPA0024P_daily.json\n",
      "\n",
      "[22/25] Processing: HUPA0004P.csv\n",
      "Processing: HUPA0004P.csv\n",
      "Saved CSV: ../Datasets/HUPA-UCM Diabetes Dataset/Final/preprocessed/HUPA0004P/HUPA0004P_preprocessed.csv\n",
      "Saved text: ../Datasets/HUPA-UCM Diabetes Dataset/Final/preprocessed/HUPA0004P/text/HUPA0004P_daily.txt\n",
      "Saved JSON: ../Datasets/HUPA-UCM Diabetes Dataset/Final/preprocessed/HUPA0004P/json/HUPA0004P_daily.json\n",
      "\n",
      "[23/25] Processing: HUPA0009P.csv\n",
      "Processing: HUPA0009P.csv\n",
      "Saved CSV: ../Datasets/HUPA-UCM Diabetes Dataset/Final/preprocessed/HUPA0009P/HUPA0009P_preprocessed.csv\n",
      "Saved text: ../Datasets/HUPA-UCM Diabetes Dataset/Final/preprocessed/HUPA0009P/text/HUPA0009P_daily.txt\n",
      "Saved JSON: ../Datasets/HUPA-UCM Diabetes Dataset/Final/preprocessed/HUPA0009P/json/HUPA0009P_daily.json\n",
      "\n",
      "[24/25] Processing: HUPA0015P.csv\n",
      "Processing: HUPA0015P.csv\n",
      "Saved CSV: ../Datasets/HUPA-UCM Diabetes Dataset/Final/preprocessed/HUPA0015P/HUPA0015P_preprocessed.csv\n",
      "Saved text: ../Datasets/HUPA-UCM Diabetes Dataset/Final/preprocessed/HUPA0015P/text/HUPA0015P_daily.txt\n",
      "Saved JSON: ../Datasets/HUPA-UCM Diabetes Dataset/Final/preprocessed/HUPA0015P/json/HUPA0015P_daily.json\n",
      "\n",
      "[25/25] Processing: HUPA0019P.csv\n",
      "Processing: HUPA0019P.csv\n",
      "Saved CSV: ../Datasets/HUPA-UCM Diabetes Dataset/Final/preprocessed/HUPA0019P/HUPA0019P_preprocessed.csv\n",
      "Saved text: ../Datasets/HUPA-UCM Diabetes Dataset/Final/preprocessed/HUPA0019P/text/HUPA0019P_daily.txt\n",
      "Saved JSON: ../Datasets/HUPA-UCM Diabetes Dataset/Final/preprocessed/HUPA0019P/json/HUPA0019P_daily.json\n",
      "\n",
      "==================================================\n",
      "Failed: 0 files\n",
      "\n",
      "Successful files: ['HUPA0002P.csv', 'HUPA0027P.csv', 'HUPA0020P.csv', 'HUPA0011P.csv', 'HUPA0007P.csv', 'HUPA0018P.csv', 'HUPA0028P.csv', 'HUPA0003P.csv', 'HUPA0022P.csv', 'HUPA0026P.csv', 'HUPA0025P.csv', 'HUPA0023P.csv', 'HUPA0005P.csv', 'HUPA0014P.csv', 'HUPA0001P.csv', 'HUPA0006P.csv', 'HUPA0010P.csv', 'HUPA0016P.csv', 'HUPA0021P.csv', 'HUPA0017P.csv', 'HUPA0024P.csv', 'HUPA0004P.csv', 'HUPA0009P.csv', 'HUPA0015P.csv', 'HUPA0019P.csv']\n"
     ]
    }
   ],
   "execution_count": 65
  }
 ],
 "metadata": {
  "kernelspec": {
   "name": "python3",
   "language": "python",
   "display_name": "Python 3 (ipykernel)"
  }
 },
 "nbformat": 5,
 "nbformat_minor": 9
}
