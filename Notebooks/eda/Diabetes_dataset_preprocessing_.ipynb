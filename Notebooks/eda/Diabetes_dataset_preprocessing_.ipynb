{
  "nbformat": 4,
  "nbformat_minor": 0,
  "metadata": {
    "colab": {
      "provenance": [],
      "authorship_tag": "ABX9TyM2QWwUqFmKTipB9DGTVU0+",
      "include_colab_link": true
    },
    "kernelspec": {
      "name": "python3",
      "display_name": "Python 3"
    },
    "language_info": {
      "name": "python"
    }
  },
  "cells": [
    {
      "cell_type": "markdown",
      "metadata": {
        "id": "view-in-github",
        "colab_type": "text"
      },
      "source": [
        "<a href=\"https://colab.research.google.com/github/TarekkMU1911/AI-Agent-Diabetes-Diagnosis/blob/dev-team/Diabetes_dataset_preprocessing_.ipynb\" target=\"_parent\"><img src=\"https://colab.research.google.com/assets/colab-badge.svg\" alt=\"Open In Colab\"/></a>"
      ]
    },
    {
      "cell_type": "code",
      "execution_count": 2,
      "metadata": {
        "colab": {
          "base_uri": "https://localhost:8080/",
          "height": 91
        },
        "id": "sBgSFBjqt9oH",
        "outputId": "adb40e9b-e4be-4574-b382-da7f19f6a78a"
      },
      "outputs": [
        {
          "output_type": "display_data",
          "data": {
            "text/plain": [
              "<IPython.core.display.HTML object>"
            ],
            "text/html": [
              "\n",
              "     <input type=\"file\" id=\"files-c7f1140a-b3ca-4951-8092-1702911c939f\" name=\"files[]\" multiple disabled\n",
              "        style=\"border:none\" />\n",
              "     <output id=\"result-c7f1140a-b3ca-4951-8092-1702911c939f\">\n",
              "      Upload widget is only available when the cell has been executed in the\n",
              "      current browser session. Please rerun this cell to enable.\n",
              "      </output>\n",
              "      <script>// Copyright 2017 Google LLC\n",
              "//\n",
              "// Licensed under the Apache License, Version 2.0 (the \"License\");\n",
              "// you may not use this file except in compliance with the License.\n",
              "// You may obtain a copy of the License at\n",
              "//\n",
              "//      http://www.apache.org/licenses/LICENSE-2.0\n",
              "//\n",
              "// Unless required by applicable law or agreed to in writing, software\n",
              "// distributed under the License is distributed on an \"AS IS\" BASIS,\n",
              "// WITHOUT WARRANTIES OR CONDITIONS OF ANY KIND, either express or implied.\n",
              "// See the License for the specific language governing permissions and\n",
              "// limitations under the License.\n",
              "\n",
              "/**\n",
              " * @fileoverview Helpers for google.colab Python module.\n",
              " */\n",
              "(function(scope) {\n",
              "function span(text, styleAttributes = {}) {\n",
              "  const element = document.createElement('span');\n",
              "  element.textContent = text;\n",
              "  for (const key of Object.keys(styleAttributes)) {\n",
              "    element.style[key] = styleAttributes[key];\n",
              "  }\n",
              "  return element;\n",
              "}\n",
              "\n",
              "// Max number of bytes which will be uploaded at a time.\n",
              "const MAX_PAYLOAD_SIZE = 100 * 1024;\n",
              "\n",
              "function _uploadFiles(inputId, outputId) {\n",
              "  const steps = uploadFilesStep(inputId, outputId);\n",
              "  const outputElement = document.getElementById(outputId);\n",
              "  // Cache steps on the outputElement to make it available for the next call\n",
              "  // to uploadFilesContinue from Python.\n",
              "  outputElement.steps = steps;\n",
              "\n",
              "  return _uploadFilesContinue(outputId);\n",
              "}\n",
              "\n",
              "// This is roughly an async generator (not supported in the browser yet),\n",
              "// where there are multiple asynchronous steps and the Python side is going\n",
              "// to poll for completion of each step.\n",
              "// This uses a Promise to block the python side on completion of each step,\n",
              "// then passes the result of the previous step as the input to the next step.\n",
              "function _uploadFilesContinue(outputId) {\n",
              "  const outputElement = document.getElementById(outputId);\n",
              "  const steps = outputElement.steps;\n",
              "\n",
              "  const next = steps.next(outputElement.lastPromiseValue);\n",
              "  return Promise.resolve(next.value.promise).then((value) => {\n",
              "    // Cache the last promise value to make it available to the next\n",
              "    // step of the generator.\n",
              "    outputElement.lastPromiseValue = value;\n",
              "    return next.value.response;\n",
              "  });\n",
              "}\n",
              "\n",
              "/**\n",
              " * Generator function which is called between each async step of the upload\n",
              " * process.\n",
              " * @param {string} inputId Element ID of the input file picker element.\n",
              " * @param {string} outputId Element ID of the output display.\n",
              " * @return {!Iterable<!Object>} Iterable of next steps.\n",
              " */\n",
              "function* uploadFilesStep(inputId, outputId) {\n",
              "  const inputElement = document.getElementById(inputId);\n",
              "  inputElement.disabled = false;\n",
              "\n",
              "  const outputElement = document.getElementById(outputId);\n",
              "  outputElement.innerHTML = '';\n",
              "\n",
              "  const pickedPromise = new Promise((resolve) => {\n",
              "    inputElement.addEventListener('change', (e) => {\n",
              "      resolve(e.target.files);\n",
              "    });\n",
              "  });\n",
              "\n",
              "  const cancel = document.createElement('button');\n",
              "  inputElement.parentElement.appendChild(cancel);\n",
              "  cancel.textContent = 'Cancel upload';\n",
              "  const cancelPromise = new Promise((resolve) => {\n",
              "    cancel.onclick = () => {\n",
              "      resolve(null);\n",
              "    };\n",
              "  });\n",
              "\n",
              "  // Wait for the user to pick the files.\n",
              "  const files = yield {\n",
              "    promise: Promise.race([pickedPromise, cancelPromise]),\n",
              "    response: {\n",
              "      action: 'starting',\n",
              "    }\n",
              "  };\n",
              "\n",
              "  cancel.remove();\n",
              "\n",
              "  // Disable the input element since further picks are not allowed.\n",
              "  inputElement.disabled = true;\n",
              "\n",
              "  if (!files) {\n",
              "    return {\n",
              "      response: {\n",
              "        action: 'complete',\n",
              "      }\n",
              "    };\n",
              "  }\n",
              "\n",
              "  for (const file of files) {\n",
              "    const li = document.createElement('li');\n",
              "    li.append(span(file.name, {fontWeight: 'bold'}));\n",
              "    li.append(span(\n",
              "        `(${file.type || 'n/a'}) - ${file.size} bytes, ` +\n",
              "        `last modified: ${\n",
              "            file.lastModifiedDate ? file.lastModifiedDate.toLocaleDateString() :\n",
              "                                    'n/a'} - `));\n",
              "    const percent = span('0% done');\n",
              "    li.appendChild(percent);\n",
              "\n",
              "    outputElement.appendChild(li);\n",
              "\n",
              "    const fileDataPromise = new Promise((resolve) => {\n",
              "      const reader = new FileReader();\n",
              "      reader.onload = (e) => {\n",
              "        resolve(e.target.result);\n",
              "      };\n",
              "      reader.readAsArrayBuffer(file);\n",
              "    });\n",
              "    // Wait for the data to be ready.\n",
              "    let fileData = yield {\n",
              "      promise: fileDataPromise,\n",
              "      response: {\n",
              "        action: 'continue',\n",
              "      }\n",
              "    };\n",
              "\n",
              "    // Use a chunked sending to avoid message size limits. See b/62115660.\n",
              "    let position = 0;\n",
              "    do {\n",
              "      const length = Math.min(fileData.byteLength - position, MAX_PAYLOAD_SIZE);\n",
              "      const chunk = new Uint8Array(fileData, position, length);\n",
              "      position += length;\n",
              "\n",
              "      const base64 = btoa(String.fromCharCode.apply(null, chunk));\n",
              "      yield {\n",
              "        response: {\n",
              "          action: 'append',\n",
              "          file: file.name,\n",
              "          data: base64,\n",
              "        },\n",
              "      };\n",
              "\n",
              "      let percentDone = fileData.byteLength === 0 ?\n",
              "          100 :\n",
              "          Math.round((position / fileData.byteLength) * 100);\n",
              "      percent.textContent = `${percentDone}% done`;\n",
              "\n",
              "    } while (position < fileData.byteLength);\n",
              "  }\n",
              "\n",
              "  // All done.\n",
              "  yield {\n",
              "    response: {\n",
              "      action: 'complete',\n",
              "    }\n",
              "  };\n",
              "}\n",
              "\n",
              "scope.google = scope.google || {};\n",
              "scope.google.colab = scope.google.colab || {};\n",
              "scope.google.colab._files = {\n",
              "  _uploadFiles,\n",
              "  _uploadFilesContinue,\n",
              "};\n",
              "})(self);\n",
              "</script> "
            ]
          },
          "metadata": {}
        },
        {
          "output_type": "stream",
          "name": "stdout",
          "text": [
            "Saving kaggle.json to kaggle.json\n"
          ]
        },
        {
          "output_type": "execute_result",
          "data": {
            "text/plain": [
              "{'kaggle.json': b'{\"username\":\"faridakhaledaly\",\"key\":\"0ff9c567c66f6538c82d86465cf0b231\"}'}"
            ]
          },
          "metadata": {},
          "execution_count": 2
        }
      ],
      "source": [
        "from google.colab import files\n",
        "files.upload()"
      ]
    },
    {
      "cell_type": "markdown",
      "source": [
        "#**Install Kaggle API**"
      ],
      "metadata": {
        "id": "ODf3nHLeu2fF"
      }
    },
    {
      "cell_type": "code",
      "source": [
        "!pip install -q kaggle"
      ],
      "metadata": {
        "id": "fmPWDLeuujmj"
      },
      "execution_count": 3,
      "outputs": []
    },
    {
      "cell_type": "code",
      "source": [
        "!mkdir -p ~/.kaggle\n",
        "!cp kaggle.json ~/.kaggle/\n",
        "!chmod 600 ~/.kaggle/kaggle.json"
      ],
      "metadata": {
        "id": "HQjY0Gmcu8TV"
      },
      "execution_count": 4,
      "outputs": []
    },
    {
      "cell_type": "code",
      "source": [
        "!kaggle datasets list"
      ],
      "metadata": {
        "colab": {
          "base_uri": "https://localhost:8080/"
        },
        "id": "uQxUd32avEUx",
        "outputId": "5bb00576-2ac6-469a-96bf-e6f5a73aa240"
      },
      "execution_count": 5,
      "outputs": [
        {
          "output_type": "stream",
          "name": "stdout",
          "text": [
            "ref                                                          title                                                     size  lastUpdated                 downloadCount  voteCount  usabilityRating  \n",
            "-----------------------------------------------------------  --------------------------------------------------  ----------  --------------------------  -------------  ---------  ---------------  \n",
            "yashdevladdha/uber-ride-analytics-dashboard                  Uber Data Analytics Dashboard                         17324552  2025-08-08 11:13:42.920000          31227        715  1.0              \n",
            "mdsultanulislamovi/student-stress-monitoring-datasets        Student Stress Monitoring Datasets                       24336  2025-07-24 16:30:01.617000          17508        301  1.0              \n",
            "navjotkaushal/coffee-sales-dataset                           Coffee Sales Dataset                                     38970  2025-08-19 09:37:30.057000           3684         47  0.8235294        \n",
            "pratyushpuri/multilingual-mobile-app-reviews-dataset-2025    Multilingual Mobile App Review Dataset August 2025      136331  2025-07-31 03:09:08.217000           5699        226  1.0              \n",
            "rohitgrewal/airlines-flights-data                            Airlines Flights Data                                  2440299  2025-07-29 09:16:00.463000          24205        420  1.0              \n",
            "khushikyad001/electric-vehicle-analytics-dataset             Electric Vehicle Analytics Dataset.                     155919  2025-08-23 11:05:05.397000            844         23  0.9411765        \n",
            "poushal02/student-academic-stress-real-world-dataset         Student Academic Stress Real World Dataset                2104  2025-08-20 07:49:12.590000           3631         88  1.0              \n",
            "sanskar21072005/amazon-best-sellers-2025                     Amazon Best Sellers 2025                                 60677  2025-08-19 10:21:20.207000           2021         33  0.9411765        \n",
            "haseebindata/restaurant-orders                               Restaurant Orders                                        12009  2025-08-14 14:17:27.467000           1328         29  1.0              \n",
            "rohitgrewal/hr-data-mnc                                      HR Dataset (Multinational Company)                    69930946  2025-08-23 06:53:08.740000           1219         34  1.0              \n",
            "adharshinikumar/2025-hearing-wellness-survey                 2025 Hearing Wellness Survey                              9495  2025-08-09 17:54:06.720000           2271         74  1.0              \n",
            "alperenmyung/social-media-advertisement-performance          Social Media Advertisement Performance                16190360  2025-08-06 14:27:34.473000           1298         26  1.0              \n",
            "uom190346a/global-coffee-health-dataset                      Global Coffee Health Dataset                            188218  2025-08-22 15:26:30.493000           1468         42  0.9411765        \n",
            "abdulmalik1518/cars-datasets-2025                            Cars Datasets (2025)                                     25987  2025-07-17 21:43:28.493000          18698        339  1.0              \n",
            "yanghu583/electric-vehicle-population-data-2025              Electric Vehicle Population Data 2025                  8281096  2025-08-07 15:16:39.673000           1620         30  1.0              \n",
            "rohitgrewal/netflix-data                                     Netflix Data                                           1224095  2025-07-31 06:07:40.333000           6224         82  1.0              \n",
            "ludocielbeckett/health-risk-prediction-anonymized-real-data  Health Risk Prediction (Anonymized Real Data)            10466  2025-08-24 14:51:54.793000            983         30  1.0              \n",
            "dansbecker/melbourne-housing-snapshot                        Melbourne Housing Snapshot                              461423  2018-06-05 12:52:24.087000         190354       1666  0.7058824        \n",
            "xfkzujqjvx97n/football-datasets                              2.2M+ Records -Most Comprehensive Football Dataset    38036060  2025-08-21 10:33:04.657000            602         26  1.0              \n",
            "datasnaek/youtube-new                                        Trending YouTube Video Statistics                    210575746  2019-06-03 00:56:47.177000         282347       5762  0.7941176        \n"
          ]
        }
      ]
    },
    {
      "cell_type": "markdown",
      "source": [
        "# **Import Libraries**"
      ],
      "metadata": {
        "id": "-NUX5MGPzN0U"
      }
    },
    {
      "cell_type": "code",
      "source": [
        "import warnings\n",
        "warnings.filterwarnings('ignore')\n",
        "\n",
        "# Import Neccessary libraries\n",
        "import numpy as np\n",
        "import pandas as pd\n",
        "\n",
        "# Import Visualization libraries\n",
        "import matplotlib.pyplot as plt\n",
        "import seaborn as sns\n",
        "\n",
        "#Import Model\n",
        "from sklearn.model_selection import train_test_split, GridSearchCV\n",
        "from sklearn.preprocessing import StandardScaler, OneHotEncoder\n",
        "from sklearn.compose import ColumnTransformer\n",
        "from sklearn.ensemble import RandomForestClassifier\n",
        "from sklearn.metrics import accuracy_score, classification_report, confusion_matrix\n",
        "from sklearn.pipeline import Pipeline\n",
        "\n",
        "#Import Sampler libraries\n",
        "from imblearn.over_sampling import SMOTE\n",
        "from imblearn.under_sampling import RandomUnderSampler\n",
        "from imblearn.pipeline import Pipeline as imbPipeline\n",
        "\n",
        "# Set the decimal format\n",
        "pd.options.display.float_format = \"{:.2f}\".format"
      ],
      "metadata": {
        "id": "KiByfef1zZ5B"
      },
      "execution_count": 6,
      "outputs": []
    },
    {
      "cell_type": "markdown",
      "source": [
        "# **Load and Unzip the Dataset**"
      ],
      "metadata": {
        "id": "uj94e0wEvKG6"
      }
    },
    {
      "cell_type": "code",
      "source": [
        "# Step 4: Download the dataset\n",
        "!kaggle datasets download -d iammustafatz/diabetes-prediction-dataset\n",
        "\n",
        "# Step 5: Unzip it\n",
        "!unzip -q diabetes-prediction-dataset.zip"
      ],
      "metadata": {
        "colab": {
          "base_uri": "https://localhost:8080/"
        },
        "id": "Nsb3Sa3WvGwF",
        "outputId": "7407c015-fb7f-4878-a076-3ebf350cb230"
      },
      "execution_count": 7,
      "outputs": [
        {
          "output_type": "stream",
          "name": "stdout",
          "text": [
            "Dataset URL: https://www.kaggle.com/datasets/iammustafatz/diabetes-prediction-dataset\n",
            "License(s): copyright-authors\n",
            "Downloading diabetes-prediction-dataset.zip to /content\n",
            "  0% 0.00/734k [00:00<?, ?B/s]\n",
            "100% 734k/734k [00:00<00:00, 1.68GB/s]\n"
          ]
        }
      ]
    },
    {
      "cell_type": "code",
      "source": [
        "df =  pd.read_csv('diabetes_prediction_dataset.csv')"
      ],
      "metadata": {
        "id": "nIvP8cunxjZf"
      },
      "execution_count": 52,
      "outputs": []
    },
    {
      "cell_type": "code",
      "source": [
        "df.head(10)"
      ],
      "metadata": {
        "colab": {
          "base_uri": "https://localhost:8080/",
          "height": 363
        },
        "id": "Qqik6QHZzIJ8",
        "outputId": "fde74b58-ee1a-451b-9ae5-22d28ee0fd84"
      },
      "execution_count": 53,
      "outputs": [
        {
          "output_type": "execute_result",
          "data": {
            "text/plain": [
              "   gender   age  hypertension  heart_disease smoking_history   bmi  \\\n",
              "0  Female 80.00             0              1           never 25.19   \n",
              "1  Female 54.00             0              0         No Info 27.32   \n",
              "2    Male 28.00             0              0           never 27.32   \n",
              "3  Female 36.00             0              0         current 23.45   \n",
              "4    Male 76.00             1              1         current 20.14   \n",
              "5  Female 20.00             0              0           never 27.32   \n",
              "6  Female 44.00             0              0           never 19.31   \n",
              "7  Female 79.00             0              0         No Info 23.86   \n",
              "8    Male 42.00             0              0           never 33.64   \n",
              "9  Female 32.00             0              0           never 27.32   \n",
              "\n",
              "   HbA1c_level  blood_glucose_level  diabetes  \n",
              "0         6.60                  140         0  \n",
              "1         6.60                   80         0  \n",
              "2         5.70                  158         0  \n",
              "3         5.00                  155         0  \n",
              "4         4.80                  155         0  \n",
              "5         6.60                   85         0  \n",
              "6         6.50                  200         1  \n",
              "7         5.70                   85         0  \n",
              "8         4.80                  145         0  \n",
              "9         5.00                  100         0  "
            ],
            "text/html": [
              "\n",
              "  <div id=\"df-90f8bd98-8b6f-47c6-8f88-52c3e008a828\" class=\"colab-df-container\">\n",
              "    <div>\n",
              "<style scoped>\n",
              "    .dataframe tbody tr th:only-of-type {\n",
              "        vertical-align: middle;\n",
              "    }\n",
              "\n",
              "    .dataframe tbody tr th {\n",
              "        vertical-align: top;\n",
              "    }\n",
              "\n",
              "    .dataframe thead th {\n",
              "        text-align: right;\n",
              "    }\n",
              "</style>\n",
              "<table border=\"1\" class=\"dataframe\">\n",
              "  <thead>\n",
              "    <tr style=\"text-align: right;\">\n",
              "      <th></th>\n",
              "      <th>gender</th>\n",
              "      <th>age</th>\n",
              "      <th>hypertension</th>\n",
              "      <th>heart_disease</th>\n",
              "      <th>smoking_history</th>\n",
              "      <th>bmi</th>\n",
              "      <th>HbA1c_level</th>\n",
              "      <th>blood_glucose_level</th>\n",
              "      <th>diabetes</th>\n",
              "    </tr>\n",
              "  </thead>\n",
              "  <tbody>\n",
              "    <tr>\n",
              "      <th>0</th>\n",
              "      <td>Female</td>\n",
              "      <td>80.00</td>\n",
              "      <td>0</td>\n",
              "      <td>1</td>\n",
              "      <td>never</td>\n",
              "      <td>25.19</td>\n",
              "      <td>6.60</td>\n",
              "      <td>140</td>\n",
              "      <td>0</td>\n",
              "    </tr>\n",
              "    <tr>\n",
              "      <th>1</th>\n",
              "      <td>Female</td>\n",
              "      <td>54.00</td>\n",
              "      <td>0</td>\n",
              "      <td>0</td>\n",
              "      <td>No Info</td>\n",
              "      <td>27.32</td>\n",
              "      <td>6.60</td>\n",
              "      <td>80</td>\n",
              "      <td>0</td>\n",
              "    </tr>\n",
              "    <tr>\n",
              "      <th>2</th>\n",
              "      <td>Male</td>\n",
              "      <td>28.00</td>\n",
              "      <td>0</td>\n",
              "      <td>0</td>\n",
              "      <td>never</td>\n",
              "      <td>27.32</td>\n",
              "      <td>5.70</td>\n",
              "      <td>158</td>\n",
              "      <td>0</td>\n",
              "    </tr>\n",
              "    <tr>\n",
              "      <th>3</th>\n",
              "      <td>Female</td>\n",
              "      <td>36.00</td>\n",
              "      <td>0</td>\n",
              "      <td>0</td>\n",
              "      <td>current</td>\n",
              "      <td>23.45</td>\n",
              "      <td>5.00</td>\n",
              "      <td>155</td>\n",
              "      <td>0</td>\n",
              "    </tr>\n",
              "    <tr>\n",
              "      <th>4</th>\n",
              "      <td>Male</td>\n",
              "      <td>76.00</td>\n",
              "      <td>1</td>\n",
              "      <td>1</td>\n",
              "      <td>current</td>\n",
              "      <td>20.14</td>\n",
              "      <td>4.80</td>\n",
              "      <td>155</td>\n",
              "      <td>0</td>\n",
              "    </tr>\n",
              "    <tr>\n",
              "      <th>5</th>\n",
              "      <td>Female</td>\n",
              "      <td>20.00</td>\n",
              "      <td>0</td>\n",
              "      <td>0</td>\n",
              "      <td>never</td>\n",
              "      <td>27.32</td>\n",
              "      <td>6.60</td>\n",
              "      <td>85</td>\n",
              "      <td>0</td>\n",
              "    </tr>\n",
              "    <tr>\n",
              "      <th>6</th>\n",
              "      <td>Female</td>\n",
              "      <td>44.00</td>\n",
              "      <td>0</td>\n",
              "      <td>0</td>\n",
              "      <td>never</td>\n",
              "      <td>19.31</td>\n",
              "      <td>6.50</td>\n",
              "      <td>200</td>\n",
              "      <td>1</td>\n",
              "    </tr>\n",
              "    <tr>\n",
              "      <th>7</th>\n",
              "      <td>Female</td>\n",
              "      <td>79.00</td>\n",
              "      <td>0</td>\n",
              "      <td>0</td>\n",
              "      <td>No Info</td>\n",
              "      <td>23.86</td>\n",
              "      <td>5.70</td>\n",
              "      <td>85</td>\n",
              "      <td>0</td>\n",
              "    </tr>\n",
              "    <tr>\n",
              "      <th>8</th>\n",
              "      <td>Male</td>\n",
              "      <td>42.00</td>\n",
              "      <td>0</td>\n",
              "      <td>0</td>\n",
              "      <td>never</td>\n",
              "      <td>33.64</td>\n",
              "      <td>4.80</td>\n",
              "      <td>145</td>\n",
              "      <td>0</td>\n",
              "    </tr>\n",
              "    <tr>\n",
              "      <th>9</th>\n",
              "      <td>Female</td>\n",
              "      <td>32.00</td>\n",
              "      <td>0</td>\n",
              "      <td>0</td>\n",
              "      <td>never</td>\n",
              "      <td>27.32</td>\n",
              "      <td>5.00</td>\n",
              "      <td>100</td>\n",
              "      <td>0</td>\n",
              "    </tr>\n",
              "  </tbody>\n",
              "</table>\n",
              "</div>\n",
              "    <div class=\"colab-df-buttons\">\n",
              "\n",
              "  <div class=\"colab-df-container\">\n",
              "    <button class=\"colab-df-convert\" onclick=\"convertToInteractive('df-90f8bd98-8b6f-47c6-8f88-52c3e008a828')\"\n",
              "            title=\"Convert this dataframe to an interactive table.\"\n",
              "            style=\"display:none;\">\n",
              "\n",
              "  <svg xmlns=\"http://www.w3.org/2000/svg\" height=\"24px\" viewBox=\"0 -960 960 960\">\n",
              "    <path d=\"M120-120v-720h720v720H120Zm60-500h600v-160H180v160Zm220 220h160v-160H400v160Zm0 220h160v-160H400v160ZM180-400h160v-160H180v160Zm440 0h160v-160H620v160ZM180-180h160v-160H180v160Zm440 0h160v-160H620v160Z\"/>\n",
              "  </svg>\n",
              "    </button>\n",
              "\n",
              "  <style>\n",
              "    .colab-df-container {\n",
              "      display:flex;\n",
              "      gap: 12px;\n",
              "    }\n",
              "\n",
              "    .colab-df-convert {\n",
              "      background-color: #E8F0FE;\n",
              "      border: none;\n",
              "      border-radius: 50%;\n",
              "      cursor: pointer;\n",
              "      display: none;\n",
              "      fill: #1967D2;\n",
              "      height: 32px;\n",
              "      padding: 0 0 0 0;\n",
              "      width: 32px;\n",
              "    }\n",
              "\n",
              "    .colab-df-convert:hover {\n",
              "      background-color: #E2EBFA;\n",
              "      box-shadow: 0px 1px 2px rgba(60, 64, 67, 0.3), 0px 1px 3px 1px rgba(60, 64, 67, 0.15);\n",
              "      fill: #174EA6;\n",
              "    }\n",
              "\n",
              "    .colab-df-buttons div {\n",
              "      margin-bottom: 4px;\n",
              "    }\n",
              "\n",
              "    [theme=dark] .colab-df-convert {\n",
              "      background-color: #3B4455;\n",
              "      fill: #D2E3FC;\n",
              "    }\n",
              "\n",
              "    [theme=dark] .colab-df-convert:hover {\n",
              "      background-color: #434B5C;\n",
              "      box-shadow: 0px 1px 3px 1px rgba(0, 0, 0, 0.15);\n",
              "      filter: drop-shadow(0px 1px 2px rgba(0, 0, 0, 0.3));\n",
              "      fill: #FFFFFF;\n",
              "    }\n",
              "  </style>\n",
              "\n",
              "    <script>\n",
              "      const buttonEl =\n",
              "        document.querySelector('#df-90f8bd98-8b6f-47c6-8f88-52c3e008a828 button.colab-df-convert');\n",
              "      buttonEl.style.display =\n",
              "        google.colab.kernel.accessAllowed ? 'block' : 'none';\n",
              "\n",
              "      async function convertToInteractive(key) {\n",
              "        const element = document.querySelector('#df-90f8bd98-8b6f-47c6-8f88-52c3e008a828');\n",
              "        const dataTable =\n",
              "          await google.colab.kernel.invokeFunction('convertToInteractive',\n",
              "                                                    [key], {});\n",
              "        if (!dataTable) return;\n",
              "\n",
              "        const docLinkHtml = 'Like what you see? Visit the ' +\n",
              "          '<a target=\"_blank\" href=https://colab.research.google.com/notebooks/data_table.ipynb>data table notebook</a>'\n",
              "          + ' to learn more about interactive tables.';\n",
              "        element.innerHTML = '';\n",
              "        dataTable['output_type'] = 'display_data';\n",
              "        await google.colab.output.renderOutput(dataTable, element);\n",
              "        const docLink = document.createElement('div');\n",
              "        docLink.innerHTML = docLinkHtml;\n",
              "        element.appendChild(docLink);\n",
              "      }\n",
              "    </script>\n",
              "  </div>\n",
              "\n",
              "\n",
              "    <div id=\"df-10288f2c-f219-453c-a23a-8f4cb6982b3b\">\n",
              "      <button class=\"colab-df-quickchart\" onclick=\"quickchart('df-10288f2c-f219-453c-a23a-8f4cb6982b3b')\"\n",
              "                title=\"Suggest charts\"\n",
              "                style=\"display:none;\">\n",
              "\n",
              "<svg xmlns=\"http://www.w3.org/2000/svg\" height=\"24px\"viewBox=\"0 0 24 24\"\n",
              "     width=\"24px\">\n",
              "    <g>\n",
              "        <path d=\"M19 3H5c-1.1 0-2 .9-2 2v14c0 1.1.9 2 2 2h14c1.1 0 2-.9 2-2V5c0-1.1-.9-2-2-2zM9 17H7v-7h2v7zm4 0h-2V7h2v10zm4 0h-2v-4h2v4z\"/>\n",
              "    </g>\n",
              "</svg>\n",
              "      </button>\n",
              "\n",
              "<style>\n",
              "  .colab-df-quickchart {\n",
              "      --bg-color: #E8F0FE;\n",
              "      --fill-color: #1967D2;\n",
              "      --hover-bg-color: #E2EBFA;\n",
              "      --hover-fill-color: #174EA6;\n",
              "      --disabled-fill-color: #AAA;\n",
              "      --disabled-bg-color: #DDD;\n",
              "  }\n",
              "\n",
              "  [theme=dark] .colab-df-quickchart {\n",
              "      --bg-color: #3B4455;\n",
              "      --fill-color: #D2E3FC;\n",
              "      --hover-bg-color: #434B5C;\n",
              "      --hover-fill-color: #FFFFFF;\n",
              "      --disabled-bg-color: #3B4455;\n",
              "      --disabled-fill-color: #666;\n",
              "  }\n",
              "\n",
              "  .colab-df-quickchart {\n",
              "    background-color: var(--bg-color);\n",
              "    border: none;\n",
              "    border-radius: 50%;\n",
              "    cursor: pointer;\n",
              "    display: none;\n",
              "    fill: var(--fill-color);\n",
              "    height: 32px;\n",
              "    padding: 0;\n",
              "    width: 32px;\n",
              "  }\n",
              "\n",
              "  .colab-df-quickchart:hover {\n",
              "    background-color: var(--hover-bg-color);\n",
              "    box-shadow: 0 1px 2px rgba(60, 64, 67, 0.3), 0 1px 3px 1px rgba(60, 64, 67, 0.15);\n",
              "    fill: var(--button-hover-fill-color);\n",
              "  }\n",
              "\n",
              "  .colab-df-quickchart-complete:disabled,\n",
              "  .colab-df-quickchart-complete:disabled:hover {\n",
              "    background-color: var(--disabled-bg-color);\n",
              "    fill: var(--disabled-fill-color);\n",
              "    box-shadow: none;\n",
              "  }\n",
              "\n",
              "  .colab-df-spinner {\n",
              "    border: 2px solid var(--fill-color);\n",
              "    border-color: transparent;\n",
              "    border-bottom-color: var(--fill-color);\n",
              "    animation:\n",
              "      spin 1s steps(1) infinite;\n",
              "  }\n",
              "\n",
              "  @keyframes spin {\n",
              "    0% {\n",
              "      border-color: transparent;\n",
              "      border-bottom-color: var(--fill-color);\n",
              "      border-left-color: var(--fill-color);\n",
              "    }\n",
              "    20% {\n",
              "      border-color: transparent;\n",
              "      border-left-color: var(--fill-color);\n",
              "      border-top-color: var(--fill-color);\n",
              "    }\n",
              "    30% {\n",
              "      border-color: transparent;\n",
              "      border-left-color: var(--fill-color);\n",
              "      border-top-color: var(--fill-color);\n",
              "      border-right-color: var(--fill-color);\n",
              "    }\n",
              "    40% {\n",
              "      border-color: transparent;\n",
              "      border-right-color: var(--fill-color);\n",
              "      border-top-color: var(--fill-color);\n",
              "    }\n",
              "    60% {\n",
              "      border-color: transparent;\n",
              "      border-right-color: var(--fill-color);\n",
              "    }\n",
              "    80% {\n",
              "      border-color: transparent;\n",
              "      border-right-color: var(--fill-color);\n",
              "      border-bottom-color: var(--fill-color);\n",
              "    }\n",
              "    90% {\n",
              "      border-color: transparent;\n",
              "      border-bottom-color: var(--fill-color);\n",
              "    }\n",
              "  }\n",
              "</style>\n",
              "\n",
              "      <script>\n",
              "        async function quickchart(key) {\n",
              "          const quickchartButtonEl =\n",
              "            document.querySelector('#' + key + ' button');\n",
              "          quickchartButtonEl.disabled = true;  // To prevent multiple clicks.\n",
              "          quickchartButtonEl.classList.add('colab-df-spinner');\n",
              "          try {\n",
              "            const charts = await google.colab.kernel.invokeFunction(\n",
              "                'suggestCharts', [key], {});\n",
              "          } catch (error) {\n",
              "            console.error('Error during call to suggestCharts:', error);\n",
              "          }\n",
              "          quickchartButtonEl.classList.remove('colab-df-spinner');\n",
              "          quickchartButtonEl.classList.add('colab-df-quickchart-complete');\n",
              "        }\n",
              "        (() => {\n",
              "          let quickchartButtonEl =\n",
              "            document.querySelector('#df-10288f2c-f219-453c-a23a-8f4cb6982b3b button');\n",
              "          quickchartButtonEl.style.display =\n",
              "            google.colab.kernel.accessAllowed ? 'block' : 'none';\n",
              "        })();\n",
              "      </script>\n",
              "    </div>\n",
              "\n",
              "    </div>\n",
              "  </div>\n"
            ],
            "application/vnd.google.colaboratory.intrinsic+json": {
              "type": "dataframe",
              "variable_name": "df",
              "summary": "{\n  \"name\": \"df\",\n  \"rows\": 100000,\n  \"fields\": [\n    {\n      \"column\": \"gender\",\n      \"properties\": {\n        \"dtype\": \"category\",\n        \"num_unique_values\": 3,\n        \"samples\": [\n          \"Female\",\n          \"Male\",\n          \"Other\"\n        ],\n        \"semantic_type\": \"\",\n        \"description\": \"\"\n      }\n    },\n    {\n      \"column\": \"age\",\n      \"properties\": {\n        \"dtype\": \"number\",\n        \"std\": 22.51683987161513,\n        \"min\": 0.08,\n        \"max\": 80.0,\n        \"num_unique_values\": 102,\n        \"samples\": [\n          29.0,\n          39.0,\n          16.0\n        ],\n        \"semantic_type\": \"\",\n        \"description\": \"\"\n      }\n    },\n    {\n      \"column\": \"hypertension\",\n      \"properties\": {\n        \"dtype\": \"number\",\n        \"std\": 0,\n        \"min\": 0,\n        \"max\": 1,\n        \"num_unique_values\": 2,\n        \"samples\": [\n          1,\n          0\n        ],\n        \"semantic_type\": \"\",\n        \"description\": \"\"\n      }\n    },\n    {\n      \"column\": \"heart_disease\",\n      \"properties\": {\n        \"dtype\": \"number\",\n        \"std\": 0,\n        \"min\": 0,\n        \"max\": 1,\n        \"num_unique_values\": 2,\n        \"samples\": [\n          0,\n          1\n        ],\n        \"semantic_type\": \"\",\n        \"description\": \"\"\n      }\n    },\n    {\n      \"column\": \"smoking_history\",\n      \"properties\": {\n        \"dtype\": \"category\",\n        \"num_unique_values\": 6,\n        \"samples\": [\n          \"never\",\n          \"No Info\"\n        ],\n        \"semantic_type\": \"\",\n        \"description\": \"\"\n      }\n    },\n    {\n      \"column\": \"bmi\",\n      \"properties\": {\n        \"dtype\": \"number\",\n        \"std\": 6.636783416649581,\n        \"min\": 10.01,\n        \"max\": 95.69,\n        \"num_unique_values\": 4247,\n        \"samples\": [\n          53.27,\n          32.33\n        ],\n        \"semantic_type\": \"\",\n        \"description\": \"\"\n      }\n    },\n    {\n      \"column\": \"HbA1c_level\",\n      \"properties\": {\n        \"dtype\": \"number\",\n        \"std\": 1.0706720918832282,\n        \"min\": 3.5,\n        \"max\": 9.0,\n        \"num_unique_values\": 18,\n        \"samples\": [\n          6.6,\n          5.7\n        ],\n        \"semantic_type\": \"\",\n        \"description\": \"\"\n      }\n    },\n    {\n      \"column\": \"blood_glucose_level\",\n      \"properties\": {\n        \"dtype\": \"number\",\n        \"std\": 40,\n        \"min\": 80,\n        \"max\": 300,\n        \"num_unique_values\": 18,\n        \"samples\": [\n          140,\n          80\n        ],\n        \"semantic_type\": \"\",\n        \"description\": \"\"\n      }\n    },\n    {\n      \"column\": \"diabetes\",\n      \"properties\": {\n        \"dtype\": \"number\",\n        \"std\": 0,\n        \"min\": 0,\n        \"max\": 1,\n        \"num_unique_values\": 2,\n        \"samples\": [\n          1,\n          0\n        ],\n        \"semantic_type\": \"\",\n        \"description\": \"\"\n      }\n    }\n  ]\n}"
            }
          },
          "metadata": {},
          "execution_count": 53
        }
      ]
    },
    {
      "cell_type": "markdown",
      "source": [
        "# **Handling Duplicates**"
      ],
      "metadata": {
        "id": "kESeEAEjz0H0"
      }
    },
    {
      "cell_type": "code",
      "source": [
        "duplicate_rows_data = df[df.duplicated()]\n",
        "print(\"number of duplicate rows: \", duplicate_rows_data.shape)"
      ],
      "metadata": {
        "colab": {
          "base_uri": "https://localhost:8080/"
        },
        "id": "5fSjvh9zzmNa",
        "outputId": "4195b780-3ae8-4f6e-de62-35a1f81d11be"
      },
      "execution_count": 54,
      "outputs": [
        {
          "output_type": "stream",
          "name": "stdout",
          "text": [
            "number of duplicate rows:  (3854, 9)\n"
          ]
        }
      ]
    },
    {
      "cell_type": "code",
      "source": [
        "df = df.drop_duplicates()"
      ],
      "metadata": {
        "id": "JaGV2JkQ1NZW"
      },
      "execution_count": 55,
      "outputs": []
    },
    {
      "cell_type": "markdown",
      "source": [
        "# ***Check if there is any Missing Values***"
      ],
      "metadata": {
        "id": "g2jtTbrT4uoe"
      }
    },
    {
      "cell_type": "code",
      "source": [
        "print(df.isnull().sum())"
      ],
      "metadata": {
        "colab": {
          "base_uri": "https://localhost:8080/"
        },
        "id": "XyLk4Jo61V2J",
        "outputId": "4b188c8b-777d-4f0e-f252-fd63b722e96e"
      },
      "execution_count": 56,
      "outputs": [
        {
          "output_type": "stream",
          "name": "stdout",
          "text": [
            "gender                 0\n",
            "age                    0\n",
            "hypertension           0\n",
            "heart_disease          0\n",
            "smoking_history        0\n",
            "bmi                    0\n",
            "HbA1c_level            0\n",
            "blood_glucose_level    0\n",
            "diabetes               0\n",
            "dtype: int64\n"
          ]
        }
      ]
    },
    {
      "cell_type": "markdown",
      "source": [
        "# ***Check if there is rare (uneeded) Values***"
      ],
      "metadata": {
        "id": "N_t0rWGx6Q3G"
      }
    },
    {
      "cell_type": "code",
      "source": [
        "'Other' in df['gender'].values"
      ],
      "metadata": {
        "colab": {
          "base_uri": "https://localhost:8080/"
        },
        "id": "FJyaXRHm6AII",
        "outputId": "9a4d2a8e-9607-408f-acea-76f99d7a193b"
      },
      "execution_count": 57,
      "outputs": [
        {
          "output_type": "execute_result",
          "data": {
            "text/plain": [
              "True"
            ]
          },
          "metadata": {},
          "execution_count": 57
        }
      ]
    },
    {
      "cell_type": "markdown",
      "source": [
        "# **Remove this rare value**"
      ],
      "metadata": {
        "id": "PvyaFbms6MJY"
      }
    },
    {
      "cell_type": "code",
      "source": [
        "df = df[df['gender'] != 'Other']"
      ],
      "metadata": {
        "id": "NSHLuB9e1is-"
      },
      "execution_count": 58,
      "outputs": []
    },
    {
      "cell_type": "code",
      "source": [
        "df.describe().style.background_gradient(cmap='Blues').format(\"{:.2f}\")"
      ],
      "metadata": {
        "colab": {
          "base_uri": "https://localhost:8080/",
          "height": 300
        },
        "id": "M5ha2oG21qDb",
        "outputId": "77193d36-41f3-474c-a80c-33b8cc7db3da"
      },
      "execution_count": 59,
      "outputs": [
        {
          "output_type": "execute_result",
          "data": {
            "text/plain": [
              "<pandas.io.formats.style.Styler at 0x7d26c681fcb0>"
            ],
            "text/html": [
              "<style type=\"text/css\">\n",
              "#T_d8925_row0_col0, #T_d8925_row0_col1, #T_d8925_row0_col2, #T_d8925_row0_col3, #T_d8925_row0_col4, #T_d8925_row0_col5, #T_d8925_row0_col6 {\n",
              "  background-color: #08306b;\n",
              "  color: #f1f1f1;\n",
              "}\n",
              "#T_d8925_row1_col0, #T_d8925_row1_col1, #T_d8925_row1_col2, #T_d8925_row1_col3, #T_d8925_row1_col4, #T_d8925_row1_col5, #T_d8925_row1_col6, #T_d8925_row2_col0, #T_d8925_row2_col1, #T_d8925_row2_col2, #T_d8925_row2_col3, #T_d8925_row2_col4, #T_d8925_row2_col5, #T_d8925_row2_col6, #T_d8925_row3_col0, #T_d8925_row3_col1, #T_d8925_row3_col2, #T_d8925_row3_col3, #T_d8925_row3_col4, #T_d8925_row3_col5, #T_d8925_row3_col6, #T_d8925_row4_col0, #T_d8925_row4_col1, #T_d8925_row4_col2, #T_d8925_row4_col3, #T_d8925_row4_col4, #T_d8925_row4_col5, #T_d8925_row4_col6, #T_d8925_row5_col0, #T_d8925_row5_col1, #T_d8925_row5_col2, #T_d8925_row5_col3, #T_d8925_row5_col4, #T_d8925_row5_col5, #T_d8925_row5_col6, #T_d8925_row6_col0, #T_d8925_row6_col1, #T_d8925_row6_col2, #T_d8925_row6_col3, #T_d8925_row6_col4, #T_d8925_row6_col5, #T_d8925_row6_col6, #T_d8925_row7_col0, #T_d8925_row7_col1, #T_d8925_row7_col2, #T_d8925_row7_col3, #T_d8925_row7_col4, #T_d8925_row7_col5, #T_d8925_row7_col6 {\n",
              "  background-color: #f7fbff;\n",
              "  color: #000000;\n",
              "}\n",
              "</style>\n",
              "<table id=\"T_d8925\" class=\"dataframe\">\n",
              "  <thead>\n",
              "    <tr>\n",
              "      <th class=\"blank level0\" >&nbsp;</th>\n",
              "      <th id=\"T_d8925_level0_col0\" class=\"col_heading level0 col0\" >age</th>\n",
              "      <th id=\"T_d8925_level0_col1\" class=\"col_heading level0 col1\" >hypertension</th>\n",
              "      <th id=\"T_d8925_level0_col2\" class=\"col_heading level0 col2\" >heart_disease</th>\n",
              "      <th id=\"T_d8925_level0_col3\" class=\"col_heading level0 col3\" >bmi</th>\n",
              "      <th id=\"T_d8925_level0_col4\" class=\"col_heading level0 col4\" >HbA1c_level</th>\n",
              "      <th id=\"T_d8925_level0_col5\" class=\"col_heading level0 col5\" >blood_glucose_level</th>\n",
              "      <th id=\"T_d8925_level0_col6\" class=\"col_heading level0 col6\" >diabetes</th>\n",
              "    </tr>\n",
              "  </thead>\n",
              "  <tbody>\n",
              "    <tr>\n",
              "      <th id=\"T_d8925_level0_row0\" class=\"row_heading level0 row0\" >count</th>\n",
              "      <td id=\"T_d8925_row0_col0\" class=\"data row0 col0\" >96128.00</td>\n",
              "      <td id=\"T_d8925_row0_col1\" class=\"data row0 col1\" >96128.00</td>\n",
              "      <td id=\"T_d8925_row0_col2\" class=\"data row0 col2\" >96128.00</td>\n",
              "      <td id=\"T_d8925_row0_col3\" class=\"data row0 col3\" >96128.00</td>\n",
              "      <td id=\"T_d8925_row0_col4\" class=\"data row0 col4\" >96128.00</td>\n",
              "      <td id=\"T_d8925_row0_col5\" class=\"data row0 col5\" >96128.00</td>\n",
              "      <td id=\"T_d8925_row0_col6\" class=\"data row0 col6\" >96128.00</td>\n",
              "    </tr>\n",
              "    <tr>\n",
              "      <th id=\"T_d8925_level0_row1\" class=\"row_heading level0 row1\" >mean</th>\n",
              "      <td id=\"T_d8925_row1_col0\" class=\"data row1 col0\" >41.80</td>\n",
              "      <td id=\"T_d8925_row1_col1\" class=\"data row1 col1\" >0.08</td>\n",
              "      <td id=\"T_d8925_row1_col2\" class=\"data row1 col2\" >0.04</td>\n",
              "      <td id=\"T_d8925_row1_col3\" class=\"data row1 col3\" >27.32</td>\n",
              "      <td id=\"T_d8925_row1_col4\" class=\"data row1 col4\" >5.53</td>\n",
              "      <td id=\"T_d8925_row1_col5\" class=\"data row1 col5\" >138.22</td>\n",
              "      <td id=\"T_d8925_row1_col6\" class=\"data row1 col6\" >0.09</td>\n",
              "    </tr>\n",
              "    <tr>\n",
              "      <th id=\"T_d8925_level0_row2\" class=\"row_heading level0 row2\" >std</th>\n",
              "      <td id=\"T_d8925_row2_col0\" class=\"data row2 col0\" >22.46</td>\n",
              "      <td id=\"T_d8925_row2_col1\" class=\"data row2 col1\" >0.27</td>\n",
              "      <td id=\"T_d8925_row2_col2\" class=\"data row2 col2\" >0.20</td>\n",
              "      <td id=\"T_d8925_row2_col3\" class=\"data row2 col3\" >6.77</td>\n",
              "      <td id=\"T_d8925_row2_col4\" class=\"data row2 col4\" >1.07</td>\n",
              "      <td id=\"T_d8925_row2_col5\" class=\"data row2 col5\" >40.91</td>\n",
              "      <td id=\"T_d8925_row2_col6\" class=\"data row2 col6\" >0.28</td>\n",
              "    </tr>\n",
              "    <tr>\n",
              "      <th id=\"T_d8925_level0_row3\" class=\"row_heading level0 row3\" >min</th>\n",
              "      <td id=\"T_d8925_row3_col0\" class=\"data row3 col0\" >0.08</td>\n",
              "      <td id=\"T_d8925_row3_col1\" class=\"data row3 col1\" >0.00</td>\n",
              "      <td id=\"T_d8925_row3_col2\" class=\"data row3 col2\" >0.00</td>\n",
              "      <td id=\"T_d8925_row3_col3\" class=\"data row3 col3\" >10.01</td>\n",
              "      <td id=\"T_d8925_row3_col4\" class=\"data row3 col4\" >3.50</td>\n",
              "      <td id=\"T_d8925_row3_col5\" class=\"data row3 col5\" >80.00</td>\n",
              "      <td id=\"T_d8925_row3_col6\" class=\"data row3 col6\" >0.00</td>\n",
              "    </tr>\n",
              "    <tr>\n",
              "      <th id=\"T_d8925_level0_row4\" class=\"row_heading level0 row4\" >25%</th>\n",
              "      <td id=\"T_d8925_row4_col0\" class=\"data row4 col0\" >24.00</td>\n",
              "      <td id=\"T_d8925_row4_col1\" class=\"data row4 col1\" >0.00</td>\n",
              "      <td id=\"T_d8925_row4_col2\" class=\"data row4 col2\" >0.00</td>\n",
              "      <td id=\"T_d8925_row4_col3\" class=\"data row4 col3\" >23.40</td>\n",
              "      <td id=\"T_d8925_row4_col4\" class=\"data row4 col4\" >4.80</td>\n",
              "      <td id=\"T_d8925_row4_col5\" class=\"data row4 col5\" >100.00</td>\n",
              "      <td id=\"T_d8925_row4_col6\" class=\"data row4 col6\" >0.00</td>\n",
              "    </tr>\n",
              "    <tr>\n",
              "      <th id=\"T_d8925_level0_row5\" class=\"row_heading level0 row5\" >50%</th>\n",
              "      <td id=\"T_d8925_row5_col0\" class=\"data row5 col0\" >43.00</td>\n",
              "      <td id=\"T_d8925_row5_col1\" class=\"data row5 col1\" >0.00</td>\n",
              "      <td id=\"T_d8925_row5_col2\" class=\"data row5 col2\" >0.00</td>\n",
              "      <td id=\"T_d8925_row5_col3\" class=\"data row5 col3\" >27.32</td>\n",
              "      <td id=\"T_d8925_row5_col4\" class=\"data row5 col4\" >5.80</td>\n",
              "      <td id=\"T_d8925_row5_col5\" class=\"data row5 col5\" >140.00</td>\n",
              "      <td id=\"T_d8925_row5_col6\" class=\"data row5 col6\" >0.00</td>\n",
              "    </tr>\n",
              "    <tr>\n",
              "      <th id=\"T_d8925_level0_row6\" class=\"row_heading level0 row6\" >75%</th>\n",
              "      <td id=\"T_d8925_row6_col0\" class=\"data row6 col0\" >59.00</td>\n",
              "      <td id=\"T_d8925_row6_col1\" class=\"data row6 col1\" >0.00</td>\n",
              "      <td id=\"T_d8925_row6_col2\" class=\"data row6 col2\" >0.00</td>\n",
              "      <td id=\"T_d8925_row6_col3\" class=\"data row6 col3\" >29.86</td>\n",
              "      <td id=\"T_d8925_row6_col4\" class=\"data row6 col4\" >6.20</td>\n",
              "      <td id=\"T_d8925_row6_col5\" class=\"data row6 col5\" >159.00</td>\n",
              "      <td id=\"T_d8925_row6_col6\" class=\"data row6 col6\" >0.00</td>\n",
              "    </tr>\n",
              "    <tr>\n",
              "      <th id=\"T_d8925_level0_row7\" class=\"row_heading level0 row7\" >max</th>\n",
              "      <td id=\"T_d8925_row7_col0\" class=\"data row7 col0\" >80.00</td>\n",
              "      <td id=\"T_d8925_row7_col1\" class=\"data row7 col1\" >1.00</td>\n",
              "      <td id=\"T_d8925_row7_col2\" class=\"data row7 col2\" >1.00</td>\n",
              "      <td id=\"T_d8925_row7_col3\" class=\"data row7 col3\" >95.69</td>\n",
              "      <td id=\"T_d8925_row7_col4\" class=\"data row7 col4\" >9.00</td>\n",
              "      <td id=\"T_d8925_row7_col5\" class=\"data row7 col5\" >300.00</td>\n",
              "      <td id=\"T_d8925_row7_col6\" class=\"data row7 col6\" >1.00</td>\n",
              "    </tr>\n",
              "  </tbody>\n",
              "</table>\n"
            ]
          },
          "metadata": {},
          "execution_count": 59
        }
      ]
    },
    {
      "cell_type": "code",
      "source": [
        "df.shape"
      ],
      "metadata": {
        "colab": {
          "base_uri": "https://localhost:8080/"
        },
        "id": "kqlwc40C11gr",
        "outputId": "cbd5ce69-1085-40de-9e9f-64d7d3b8ba6a"
      },
      "execution_count": 60,
      "outputs": [
        {
          "output_type": "execute_result",
          "data": {
            "text/plain": [
              "(96128, 9)"
            ]
          },
          "metadata": {},
          "execution_count": 60
        }
      ]
    }
  ]
}