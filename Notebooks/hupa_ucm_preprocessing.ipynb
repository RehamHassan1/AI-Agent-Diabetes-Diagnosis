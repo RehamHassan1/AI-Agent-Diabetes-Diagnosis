{
 "cells": [
  {
   "metadata": {},
   "cell_type": "code",
   "outputs": [],
   "execution_count": null,
   "source": [
    "import os\n",
    "import sys\n",
    "import pandas as pd\n",
    "import matplotlib.pyplot as plt\n",
    "import seaborn as sns\n",
    "import json "
   ],
   "id": "a26da1ac81f7767e"
  },
  {
   "metadata": {},
   "cell_type": "code",
   "outputs": [],
   "execution_count": null,
   "source": [
    "from huda_ucm_preprocessing import preprocess_all_patients  \n",
    "\n",
    "\n"
   ],
   "id": "bc74a309fce34405"
  },
  {
   "metadata": {},
   "cell_type": "code",
   "outputs": [],
   "execution_count": null,
   "source": "print(os.listdir())",
   "id": "15158d43f3567f83"
  },
  {
   "metadata": {},
   "cell_type": "code",
   "outputs": [],
   "execution_count": null,
   "source": "print(\"Current working directory:\", os.getcwd())\n",
   "id": "ef6348419e5ad1ef"
  },
  {
   "metadata": {},
   "cell_type": "code",
   "outputs": [],
   "execution_count": null,
   "source": [
    "\n",
    "data_folder = \"../Datasets/HUPA-UCM Diabetes Dataset/Preprocessed\"\n",
    "output_folder = \"../Datasets/HUPA-UCM Diabetes Dataset/Cleaned\"\n",
    "\n",
    "all_text = preprocess_all_patients(data_folder, output_folder)\n"
   ],
   "id": "359aedf4888aa4a6"
  },
  {
   "metadata": {},
   "cell_type": "code",
   "outputs": [],
   "execution_count": null,
   "source": [
    "\n",
    "for patient_file, daily_texts in all_text.items():\n",
    "    print(f\"\\nPatient file: {patient_file}\")\n",
    "    for text in daily_texts[:2]: \n",
    "        print(text)\n",
    "    break\n",
    "\n",
    "with open(\"daily_patient_texts.json\", \"w\") as f:\n",
    "    json.dump(all_text, f, indent=2)\n"
   ],
   "id": "bb9c1a700b388c98"
  }
 ],
 "metadata": {},
 "nbformat": 5,
 "nbformat_minor": 9
}
