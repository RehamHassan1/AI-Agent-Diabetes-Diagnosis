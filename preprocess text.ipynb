{
 "cells": [
  {
   "cell_type": "code",
   "execution_count": null,
   "id": "0850742e",
   "metadata": {},
   "outputs": [],
   "source": [
    "#! pip install biopython"
   ]
  },
  {
   "cell_type": "code",
   "execution_count": null,
   "id": "85395e19",
   "metadata": {},
   "outputs": [],
   "source": [
    "from Bio import Entrez\n",
    "import pandas as pd\n",
    "\n",
    "Entrez.email = \"rhrahoma@gmail.com\"\n",
    "handle = Entrez.esearch(db=\"pubmed\", term=\"Diabetes Mellitus\", retmax=1000)\n",
    "record = Entrez.read(handle)\n",
    "ids = record[\"IdList\"]\n",
    "\n",
    "handle = Entrez.efetch(db=\"pubmed\", id=\",\".join(ids), rettype=\"medline\", retmode=\"xml\")\n",
    "records = Entrez.read(handle)\n",
    "\n",
    "# Extract and save Title + Abstract\n",
    "articles = []\n",
    "for article in records[\"PubmedArticle\"]:\n",
    "    title = article[\"MedlineCitation\"][\"Article\"][\"ArticleTitle\"]\n",
    "    abstract = \"\"\n",
    "    if \"Abstract\" in article[\"MedlineCitation\"][\"Article\"]:\n",
    "        abstract = \" \".join(article[\"MedlineCitation\"][\"Article\"][\"Abstract\"][\"AbstractText\"])\n",
    "    articles.append({\"Title\": title, \"Abstract\": abstract})\n",
    "\n",
    "# Save to CSV\n",
    "df = pd.DataFrame(articles)\n",
    "df.to_csv(\"diabetes_mellitus_articles.csv\", index=False, encoding=\"utf-8\")\n",
    "\n",
    "print(df.head())\n"
   ]
  }
 ],
 "metadata": {
  "language_info": {
   "name": "python"
  }
 },
 "nbformat": 4,
 "nbformat_minor": 5
}
